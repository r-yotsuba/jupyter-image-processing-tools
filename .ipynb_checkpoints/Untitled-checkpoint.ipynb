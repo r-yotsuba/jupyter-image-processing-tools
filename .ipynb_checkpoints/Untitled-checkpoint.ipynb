{
 "cells": [
  {
   "cell_type": "code",
   "execution_count": 1,
   "metadata": {},
   "outputs": [],
   "source": [
    "%matplotlib widget\n",
    "import numpy as np\n",
    "import matplotlib.pyplot as plt\n",
    "import cv2\n",
    "from ipywidgets import Textarea, Layout"
   ]
  },
  {
   "cell_type": "code",
   "execution_count": 2,
   "metadata": {},
   "outputs": [],
   "source": [
    "file= 'img/sample.png'\n",
    "# 画像ファイルパスから読み込み\n",
    "data = cv2.imread(file)\n",
    "data = cv2.convert\n",
    "\n",
    "# # バイナリから読み込み(python3なのでbinaryモードで読み込み)\n",
    "# with open(file, 'rb') as f:\n",
    "#     binary = f.read()\n",
    "# # 一度ndarrayに変換してからdecodeします。reshapeだけしてると思われます.\n",
    "# arr = np.asarray(bytearray(binary), dtype=np.uint8)\n",
    "# img = cv2.imdecode(arr, -1)  # 'load it as it is'"
   ]
  },
  {
   "cell_type": "code",
   "execution_count": 3,
   "metadata": {},
   "outputs": [
    {
     "data": {
      "application/vnd.jupyter.widget-view+json": {
       "model_id": "7ff293c493f647a7a9068db0106fc92f",
       "version_major": 2,
       "version_minor": 0
      },
      "text/plain": [
       "Canvas(toolbar=Toolbar(toolitems=[('Home', 'Reset original view', 'home', 'home'), ('Back', 'Back to previous …"
      ]
     },
     "metadata": {},
     "output_type": "display_data"
    },
    {
     "data": {
      "application/vnd.jupyter.widget-view+json": {
       "model_id": "efa5ebaffe2b46eea3a1eeb761ace3fe",
       "version_major": 2,
       "version_minor": 0
      },
      "text/plain": [
       "Textarea(value='', description='event:', layout=Layout(height='40px', width='50%'), placeholder='data')"
      ]
     },
     "metadata": {},
     "output_type": "display_data"
    }
   ],
   "source": [
    "\n",
    "\n",
    "\n",
    "fig = plt.figure()\n",
    "data = np.random.random(size=(10,10))\n",
    "plt.imshow(data)\n",
    "\n",
    "# Create and display textarea widget\n",
    "txt = Textarea(\n",
    "    value='',\n",
    "    placeholder='data',\n",
    "    description='event:',\n",
    "    disabled=False,\n",
    "    layout=Layout(width='50%', height='40px'))\n",
    "display(txt)\n",
    "\n",
    "# Define a callback function that will update the textarea\n",
    "def onclick(event):\n",
    "    print('a')\n",
    "    txt.value = 'button=%d, x=%d, y=%d, xdata=%f, ydata=%f' % (event.button, event.x, event.y, event.xdata, event.ydata)\n",
    "    plt.plot(event.xdata, event.ydata,'ro')\n",
    "# Create an hard reference to the callback not to be cleared by the garbage collector\n",
    "ka = fig.canvas.mpl_connect('button_press_event', onclick)"
   ]
  },
  {
   "cell_type": "code",
   "execution_count": null,
   "metadata": {},
   "outputs": [],
   "source": []
  }
 ],
 "metadata": {
  "kernelspec": {
   "display_name": "Python 3",
   "language": "python",
   "name": "python3"
  },
  "language_info": {
   "codemirror_mode": {
    "name": "ipython",
    "version": 3
   },
   "file_extension": ".py",
   "mimetype": "text/x-python",
   "name": "python",
   "nbconvert_exporter": "python",
   "pygments_lexer": "ipython3",
   "version": "3.8.3"
  }
 },
 "nbformat": 4,
 "nbformat_minor": 4
}
