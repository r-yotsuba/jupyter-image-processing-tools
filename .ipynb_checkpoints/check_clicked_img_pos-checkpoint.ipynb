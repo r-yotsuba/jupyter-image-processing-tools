{
 "cells": [
  {
   "cell_type": "code",
   "execution_count": null,
   "metadata": {},
   "outputs": [],
   "source": [
    "# please this\n",
    "# $ pip3 install ipympl"
   ]
  },
  {
   "cell_type": "code",
   "execution_count": 2,
   "metadata": {},
   "outputs": [],
   "source": [
    "%matplotlib widget\n",
    "import numpy as np\n",
    "import matplotlib.pyplot as plt\n",
    "import cv2\n",
    "from ipywidgets import Textarea, Layout"
   ]
  },
  {
   "cell_type": "code",
   "execution_count": 3,
   "metadata": {},
   "outputs": [
    {
     "name": "stdout",
     "output_type": "stream",
     "text": [
      "img/sample.png\n"
     ]
    }
   ],
   "source": []
  },
  {
   "cell_type": "code",
   "execution_count": 14,
   "metadata": {},
   "outputs": [
    {
     "name": "stdout",
     "output_type": "stream",
     "text": [
      "img/sample.png\n"
     ]
    },
    {
     "data": {
      "application/vnd.jupyter.widget-view+json": {
       "model_id": "2af23b59136149f1a12b6fdb9b6aa82c",
       "version_major": 2,
       "version_minor": 0
      },
      "text/plain": [
       "Canvas(toolbar=Toolbar(toolitems=[('Home', 'Reset original view', 'home', 'home'), ('Back', 'Back to previous …"
      ]
     },
     "metadata": {},
     "output_type": "display_data"
    },
    {
     "data": {
      "application/vnd.jupyter.widget-view+json": {
       "model_id": "38416098ed274c0eb26b92a8e0243e2c",
       "version_major": 2,
       "version_minor": 0
      },
      "text/plain": [
       "Textarea(value='', description='event:', layout=Layout(height='100%', width='100%'), placeholder='data')"
      ]
     },
     "metadata": {},
     "output_type": "display_data"
    }
   ],
   "source": [
    "# 画像のクリック座標を表示する\n",
    "img_path = input()\n",
    "file= 'img/sample.png'\n",
    "data = cv2.imread(img_path)\n",
    "data = cv2.cvtColor(data, cv2.COLOR_BGR2RGB)\n",
    "\n",
    "fig = plt.figure()\n",
    "plt.imshow(data)\n",
    "\n",
    "# Create and display textarea widget\n",
    "txt = Textarea(\n",
    "    value='',\n",
    "    placeholder='data',\n",
    "    description='event:',\n",
    "    disabled=False,\n",
    "    layout=Layout(width='100%', height='100%'))\n",
    "display(txt)\n",
    "\n",
    "# Define a callback function that will update the textarea\n",
    "def onclick(event):\n",
    "    txt.value = 'button=%d, (x, y) =  %d, %d' % (event.dblclick, round(event.xdata, 0), round(event.ydata, 0))\n",
    "#     txt.value = 'button=%d, x=%d, y=%d, xdata=%f, ydata=%f' % (event.button, event.x, event.y, event.xdata, event.ydata)\n",
    "    plt.plot(event.xdata, event.ydata,'ro')\n",
    "\n",
    "# Create an hard reference to the callback not to be cleared by the garbage collector\n",
    "ka = fig.canvas.mpl_connect('button_press_event', onclick)"
   ]
  },
  {
   "cell_type": "code",
   "execution_count": 17,
   "metadata": {},
   "outputs": [
    {
     "name": "stdout",
     "output_type": "stream",
     "text": [
      "img/sample.png\n"
     ]
    },
    {
     "data": {
      "application/vnd.jupyter.widget-view+json": {
       "model_id": "299f5f0919fe4bdfa6707175004b09d4",
       "version_major": 2,
       "version_minor": 0
      },
      "text/plain": [
       "Canvas(toolbar=Toolbar(toolitems=[('Home', 'Reset original view', 'home', 'home'), ('Back', 'Back to previous …"
      ]
     },
     "metadata": {},
     "output_type": "display_data"
    },
    {
     "name": "stdout",
     "output_type": "stream",
     "text": [
      "please input width-pos\n",
      "300\n",
      "please input height-pos\n",
      "500\n"
     ]
    },
    {
     "data": {
      "application/vnd.jupyter.widget-view+json": {
       "model_id": "ea945026426845ab99fe8ca2d6937b35",
       "version_major": 2,
       "version_minor": 0
      },
      "text/plain": [
       "Textarea(value='', description='event:', layout=Layout(height='100%', width='100%'), placeholder='data')"
      ]
     },
     "metadata": {},
     "output_type": "display_data"
    }
   ],
   "source": [
    "# 画像のクリック座標を表示する\n",
    "print('please input PNG-path')\n",
    "img_path = input()\n",
    "file= 'img/sample.png'\n",
    "data = cv2.imread(img_path)\n",
    "data = cv2.cvtColor(data, cv2.COLOR_BGR2RGB)\n",
    "\n",
    "fig = plt.figure()\n",
    "plt.imshow(data)\n",
    "\n",
    "print('please input width-pos')\n",
    "width_pos = int(input())\n",
    "print('please input height-pos')\n",
    "height_pos = int(input())\n",
    "\n",
    "plt.plot(width_pos, height_pos,'^')\n",
    "\n",
    "# Create and display textarea widget\n",
    "txt = Textarea(\n",
    "    value='',\n",
    "    placeholder='data',\n",
    "    description='event:',\n",
    "    disabled=False,\n",
    "    layout=Layout(width='100%', height='100%'))\n",
    "display(txt)\n",
    "\n",
    "# Define a callback function that will update the textarea\n",
    "def onclick(event):\n",
    "    \n",
    "    substract_x = abs(round(event.xdata, 0)-width_pos)\n",
    "    substract_y = abs(round(event.ydata, 0)-height_pos)\n",
    "    txt.value = 'substract: (width, height) = %d, %d' % (substract_x, substract_y)\n",
    "#     txt.value = 'button=%d, x=%d, y=%d, xdata=%f, ydata=%f' % (event.button, event.x, event.y, event.xdata, event.ydata)\n",
    "    plt.plot(event.xdata, event.ydata,'ro')\n",
    "\n",
    "# Create an hard reference to the callback not to be cleared by the garbage collector\n",
    "ka = fig.canvas.mpl_connect('button_press_event', onclick)"
   ]
  },
  {
   "cell_type": "code",
   "execution_count": null,
   "metadata": {},
   "outputs": [],
   "source": []
  }
 ],
 "metadata": {
  "kernelspec": {
   "display_name": "Python 3",
   "language": "python",
   "name": "python3"
  },
  "language_info": {
   "codemirror_mode": {
    "name": "ipython",
    "version": 3
   },
   "file_extension": ".py",
   "mimetype": "text/x-python",
   "name": "python",
   "nbconvert_exporter": "python",
   "pygments_lexer": "ipython3",
   "version": "3.8.3"
  }
 },
 "nbformat": 4,
 "nbformat_minor": 4
}
